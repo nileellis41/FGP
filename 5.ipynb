{
 "cells": [
  {
   "cell_type": "markdown",
   "metadata": {},
   "source": [
    "# Demo: Exploring Time Series Data"
   ]
  },
  {
   "cell_type": "code",
   "execution_count": 33,
   "metadata": {},
   "outputs": [],
   "source": [
    "# Initial imports\n",
    "import pandas as pd\n",
    "import hvplot.pandas\n",
    "import numpy as np\n",
    "from pathlib import Path"
   ]
  },
  {
   "cell_type": "markdown",
   "metadata": {},
   "source": [
    "## Loading Time Series Data Into a DataFrame"
   ]
  },
  {
   "cell_type": "code",
   "execution_count": 34,
   "metadata": {},
   "outputs": [],
   "source": [
    "# Set the file path\n",
    "file_path = Path(\"SPGlobal_Amazon.com,Inc._FinancialHighlights_17-Jul-2023.csv\")"
   ]
  },
  {
   "cell_type": "code",
   "execution_count": 36,
   "metadata": {},
   "outputs": [],
   "source": [
    "# Load time series data into Pandas\n",
    "df = pd.read_csv(file_path, index_col=\"Period Ended\", parse_dates=True)"
   ]
  },
  {
   "cell_type": "code",
   "execution_count": 37,
   "metadata": {},
   "outputs": [
    {
     "data": {
      "text/html": [
       "<div>\n",
       "<style scoped>\n",
       "    .dataframe tbody tr th:only-of-type {\n",
       "        vertical-align: middle;\n",
       "    }\n",
       "\n",
       "    .dataframe tbody tr th {\n",
       "        vertical-align: top;\n",
       "    }\n",
       "\n",
       "    .dataframe thead th {\n",
       "        text-align: right;\n",
       "    }\n",
       "</style>\n",
       "<table border=\"1\" class=\"dataframe\">\n",
       "  <thead>\n",
       "    <tr style=\"text-align: right;\">\n",
       "      <th></th>\n",
       "      <th>Total Assets</th>\n",
       "      <th>EBIT</th>\n",
       "      <th>Basic EPS</th>\n",
       "    </tr>\n",
       "    <tr>\n",
       "      <th>Period Ended</th>\n",
       "      <th></th>\n",
       "      <th></th>\n",
       "      <th></th>\n",
       "    </tr>\n",
       "  </thead>\n",
       "  <tbody>\n",
       "    <tr>\n",
       "      <th>2017-03-31</th>\n",
       "      <td>80969000.0</td>\n",
       "      <td>1005000.0</td>\n",
       "      <td>0.08</td>\n",
       "    </tr>\n",
       "    <tr>\n",
       "      <th>2017-06-30</th>\n",
       "      <td>87781000.0</td>\n",
       "      <td>628000.0</td>\n",
       "      <td>0.02</td>\n",
       "    </tr>\n",
       "    <tr>\n",
       "      <th>2017-09-30</th>\n",
       "      <td>115267000.0</td>\n",
       "      <td>347000.0</td>\n",
       "      <td>0.03</td>\n",
       "    </tr>\n",
       "    <tr>\n",
       "      <th>2017-12-31</th>\n",
       "      <td>131310000.0</td>\n",
       "      <td>2127000.0</td>\n",
       "      <td>0.19</td>\n",
       "    </tr>\n",
       "    <tr>\n",
       "      <th>2018-03-31</th>\n",
       "      <td>126362000.0</td>\n",
       "      <td>1927000.0</td>\n",
       "      <td>0.17</td>\n",
       "    </tr>\n",
       "    <tr>\n",
       "      <th>2018-06-30</th>\n",
       "      <td>134100000.0</td>\n",
       "      <td>2983000.0</td>\n",
       "      <td>0.26</td>\n",
       "    </tr>\n",
       "    <tr>\n",
       "      <th>2018-09-30</th>\n",
       "      <td>143695000.0</td>\n",
       "      <td>3724000.0</td>\n",
       "      <td>0.30</td>\n",
       "    </tr>\n",
       "    <tr>\n",
       "      <th>2018-12-31</th>\n",
       "      <td>162648000.0</td>\n",
       "      <td>3786000.0</td>\n",
       "      <td>0.31</td>\n",
       "    </tr>\n",
       "    <tr>\n",
       "      <th>2019-03-31</th>\n",
       "      <td>178102000.0</td>\n",
       "      <td>4420000.0</td>\n",
       "      <td>0.36</td>\n",
       "    </tr>\n",
       "    <tr>\n",
       "      <th>2019-06-30</th>\n",
       "      <td>191351000.0</td>\n",
       "      <td>3084000.0</td>\n",
       "      <td>0.27</td>\n",
       "    </tr>\n",
       "  </tbody>\n",
       "</table>\n",
       "</div>"
      ],
      "text/plain": [
       "              Total Assets       EBIT  Basic EPS\n",
       "Period Ended                                    \n",
       "2017-03-31      80969000.0  1005000.0       0.08\n",
       "2017-06-30      87781000.0   628000.0       0.02\n",
       "2017-09-30     115267000.0   347000.0       0.03\n",
       "2017-12-31     131310000.0  2127000.0       0.19\n",
       "2018-03-31     126362000.0  1927000.0       0.17\n",
       "2018-06-30     134100000.0  2983000.0       0.26\n",
       "2018-09-30     143695000.0  3724000.0       0.30\n",
       "2018-12-31     162648000.0  3786000.0       0.31\n",
       "2019-03-31     178102000.0  4420000.0       0.36\n",
       "2019-06-30     191351000.0  3084000.0       0.27"
      ]
     },
     "execution_count": 37,
     "metadata": {},
     "output_type": "execute_result"
    }
   ],
   "source": [
    "# Display sample data\n",
    "df.head(10)"
   ]
  },
  {
   "cell_type": "code",
   "execution_count": 38,
   "metadata": {},
   "outputs": [
    {
     "data": {
      "text/html": [
       "<div>\n",
       "<style scoped>\n",
       "    .dataframe tbody tr th:only-of-type {\n",
       "        vertical-align: middle;\n",
       "    }\n",
       "\n",
       "    .dataframe tbody tr th {\n",
       "        vertical-align: top;\n",
       "    }\n",
       "\n",
       "    .dataframe thead th {\n",
       "        text-align: right;\n",
       "    }\n",
       "</style>\n",
       "<table border=\"1\" class=\"dataframe\">\n",
       "  <thead>\n",
       "    <tr style=\"text-align: right;\">\n",
       "      <th></th>\n",
       "      <th>Total Assets</th>\n",
       "      <th>EBIT</th>\n",
       "      <th>Basic EPS</th>\n",
       "    </tr>\n",
       "    <tr>\n",
       "      <th>Period Ended</th>\n",
       "      <th></th>\n",
       "      <th></th>\n",
       "      <th></th>\n",
       "    </tr>\n",
       "  </thead>\n",
       "  <tbody>\n",
       "    <tr>\n",
       "      <th>2017-03-31</th>\n",
       "      <td>80969000.0</td>\n",
       "      <td>1005000.0</td>\n",
       "      <td>0.08</td>\n",
       "    </tr>\n",
       "    <tr>\n",
       "      <th>2017-06-30</th>\n",
       "      <td>87781000.0</td>\n",
       "      <td>628000.0</td>\n",
       "      <td>0.02</td>\n",
       "    </tr>\n",
       "    <tr>\n",
       "      <th>2017-09-30</th>\n",
       "      <td>115267000.0</td>\n",
       "      <td>347000.0</td>\n",
       "      <td>0.03</td>\n",
       "    </tr>\n",
       "    <tr>\n",
       "      <th>2017-12-31</th>\n",
       "      <td>131310000.0</td>\n",
       "      <td>2127000.0</td>\n",
       "      <td>0.19</td>\n",
       "    </tr>\n",
       "    <tr>\n",
       "      <th>2018-03-31</th>\n",
       "      <td>126362000.0</td>\n",
       "      <td>1927000.0</td>\n",
       "      <td>0.17</td>\n",
       "    </tr>\n",
       "    <tr>\n",
       "      <th>2018-06-30</th>\n",
       "      <td>134100000.0</td>\n",
       "      <td>2983000.0</td>\n",
       "      <td>0.26</td>\n",
       "    </tr>\n",
       "    <tr>\n",
       "      <th>2018-09-30</th>\n",
       "      <td>143695000.0</td>\n",
       "      <td>3724000.0</td>\n",
       "      <td>0.30</td>\n",
       "    </tr>\n",
       "    <tr>\n",
       "      <th>2018-12-31</th>\n",
       "      <td>162648000.0</td>\n",
       "      <td>3786000.0</td>\n",
       "      <td>0.31</td>\n",
       "    </tr>\n",
       "    <tr>\n",
       "      <th>2019-03-31</th>\n",
       "      <td>178102000.0</td>\n",
       "      <td>4420000.0</td>\n",
       "      <td>0.36</td>\n",
       "    </tr>\n",
       "    <tr>\n",
       "      <th>2019-06-30</th>\n",
       "      <td>191351000.0</td>\n",
       "      <td>3084000.0</td>\n",
       "      <td>0.27</td>\n",
       "    </tr>\n",
       "  </tbody>\n",
       "</table>\n",
       "</div>"
      ],
      "text/plain": [
       "              Total Assets       EBIT  Basic EPS\n",
       "Period Ended                                    \n",
       "2017-03-31      80969000.0  1005000.0       0.08\n",
       "2017-06-30      87781000.0   628000.0       0.02\n",
       "2017-09-30     115267000.0   347000.0       0.03\n",
       "2017-12-31     131310000.0  2127000.0       0.19\n",
       "2018-03-31     126362000.0  1927000.0       0.17\n",
       "2018-06-30     134100000.0  2983000.0       0.26\n",
       "2018-09-30     143695000.0  3724000.0       0.30\n",
       "2018-12-31     162648000.0  3786000.0       0.31\n",
       "2019-03-31     178102000.0  4420000.0       0.36\n",
       "2019-06-30     191351000.0  3084000.0       0.27"
      ]
     },
     "execution_count": 38,
     "metadata": {},
     "output_type": "execute_result"
    }
   ],
   "source": [
    "# Sort the DataFrame index in ascending order\n",
    "df = df.sort_index()\n",
    "\n",
    "# Display sample data\n",
    "df.head(10)"
   ]
  },
  {
   "cell_type": "markdown",
   "metadata": {},
   "source": [
    "## Identifying Seasonal Patterns"
   ]
  },
  {
   "cell_type": "code",
   "execution_count": 39,
   "metadata": {},
   "outputs": [
    {
     "data": {
      "text/plain": [
       "<Axes: xlabel='Period Ended'>"
      ]
     },
     "execution_count": 39,
     "metadata": {},
     "output_type": "execute_result"
    },
    {
     "data": {
      "image/png": "[encoded data removed]",
      "text/plain": [
       "<Figure size 640x480 with 1 Axes>"
      ]
     },
     "metadata": {},
     "output_type": "display_data"
    }
   ],
   "source": [
    "# Plot the inventory and homes_sold series\n",
    "df[[\"Total Assets\", \"EBIT\"]].plot()"
   ]
  },
  {
   "cell_type": "code",
   "execution_count": 40,
   "metadata": {},
   "outputs": [
    {
     "name": "stdout",
     "output_type": "stream",
     "text": [
      "Period Ended\n",
      "2018-03-31    1927000.0\n",
      "2018-06-30    2983000.0\n",
      "2018-09-30    3724000.0\n",
      "2018-12-31    3786000.0\n",
      "Name: EBIT, dtype: float64\n"
     ]
    }
   ],
   "source": [
    "# Select homes sold in 2014 using the year\n",
    "sales_2018 = df[\"EBIT\"].loc[\"2018\"]\n",
    "\n",
    "# Display 2014 home sales data\n",
    "print(sales_2018)"
   ]
  },
  {
   "cell_type": "code",
   "execution_count": 43,
   "metadata": {},
   "outputs": [
    {
     "data": {},
     "metadata": {},
     "output_type": "display_data"
    },
    {
     "data": {
      "application/vnd.holoviews_exec.v0+json": "",
      "text/html": [
       "<div id='1002'>\n",
       "  <div class=\"bk-root\" id=\"313e9913-001d-48f4-8e53-787bc404ad18\" data-root-id=\"1002\"></div>\n",
       "</div>\n",
       "<script type=\"application/javascript\">(function(root) {\n",
       "  function embed_document(root) {\n",
       "    var docs_json = {\"f7b34217-f6c5-4b8b-b3cc-ae1f0afdb053\":{\"defs\":[{\"extends\":null,\"module\":null,\"name\":\"ReactiveHTML1\",\"overrides\":[],\"properties\":[]},{\"extends\":null,\"module\":null,\"name\":\"FlexBox1\",\"overrides\":[],\"properties\":[{\"default\":\"flex-start\",\"kind\":null,\"name\":\"align_content\"},{\"default\":\"flex-start\",\"kind\":null,\"name\":\"align_items\"},{\"default\":\"row\",\"kind\":null,\"name\":\"flex_direction\"},{\"default\":\"wrap\",\"kind\":null,\"name\":\"flex_wrap\"},{\"default\":\"flex-start\",\"kind\":null,\"name\":\"justify_content\"}]},{\"extends\":null,\"module\":null,\"name\":\"GridStack1\",\"overrides\":[],\"properties\":[{\"default\":\"warn\",\"kind\":null,\"name\":\"mode\"},{\"default\":null,\"kind\":null,\"name\":\"ncols\"},{\"default\":null,\"kind\":null,\"name\":\"nrows\"},{\"default\":true,\"kind\":null,\"name\":\"allow_resize\"},{\"default\":true,\"kind\":null,\"name\":\"allow_drag\"},{\"default\":[],\"kind\":null,\"name\":\"state\"}]},{\"extends\":null,\"module\":null,\"name\":\"click1\",\"overrides\":[],\"properties\":[{\"default\":\"\",\"kind\":null,\"name\":\"terminal_output\"},{\"default\":\"\",\"kind\":null,\"name\":\"debug_name\"},{\"default\":0,\"kind\":null,\"name\":\"clears\"}]},{\"extends\":null,\"module\":null,\"name\":\"NotificationAreaBase1\",\"overrides\":[],\"properties\":[{\"default\":\"bottom-right\",\"kind\":null,\"name\":\"position\"},{\"default\":0,\"kind\":null,\"name\":\"_clear\"}]},{\"extends\":null,\"module\":null,\"name\":\"NotificationArea1\",\"overrides\":[],\"properties\":[{\"default\":[],\"kind\":null,\"name\":\"notifications\"},{\"default\":\"bottom-right\",\"kind\":null,\"name\":\"position\"},{\"default\":0,\"kind\":null,\"name\":\"_clear\"},{\"default\":[{\"background\":\"#ffc107\",\"icon\":{\"className\":\"fas fa-exclamation-triangle\",\"color\":\"white\",\"tagName\":\"i\"},\"type\":\"warning\"},{\"background\":\"#007bff\",\"icon\":{\"className\":\"fas fa-info-circle\",\"color\":\"white\",\"tagName\":\"i\"},\"type\":\"info\"}],\"kind\":null,\"name\":\"types\"}]},{\"extends\":null,\"module\":null,\"name\":\"Notification\",\"overrides\":[],\"properties\":[{\"default\":null,\"kind\":null,\"name\":\"background\"},{\"default\":3000,\"kind\":null,\"name\":\"duration\"},{\"default\":null,\"kind\":null,\"name\":\"icon\"},{\"default\":\"\",\"kind\":null,\"name\":\"message\"},{\"default\":null,\"kind\":null,\"name\":\"notification_type\"},{\"default\":false,\"kind\":null,\"name\":\"_destroyed\"}]},{\"extends\":null,\"module\":null,\"name\":\"TemplateActions1\",\"overrides\":[],\"properties\":[{\"default\":0,\"kind\":null,\"name\":\"open_modal\"},{\"default\":0,\"kind\":null,\"name\":\"close_modal\"}]},{\"extends\":null,\"module\":null,\"name\":\"MaterialTemplateActions1\",\"overrides\":[],\"properties\":[{\"default\":0,\"kind\":null,\"name\":\"open_modal\"},{\"default\":0,\"kind\":null,\"name\":\"close_modal\"}]}],\"roots\":{\"references\":[{\"attributes\":{\"fill_alpha\":{\"value\":0.2},\"fill_color\":{\"value\":\"#30a2da\"},\"hatch_alpha\":{\"value\":0.2},\"hatch_color\":{\"value\":\"#30a2da\"},\"line_alpha\":{\"value\":0.2},\"top\":{\"field\":\"EBIT\"},\"width\":{\"value\":0.8},\"x\":{\"field\":\"Period_Ended\"}},\"id\":\"1040\",\"type\":\"VBar\"},{\"attributes\":{\"children\":[{\"id\":\"1006\"}],\"height\":300,\"margin\":[0,0,0,0],\"name\":\"Row00859\",\"sizing_mode\":\"fixed\",\"tags\":[\"embedded\"],\"width\":700},\"id\":\"1002\",\"type\":\"Row\"},{\"attributes\":{\"coordinates\":null,\"group\":null,\"text\":\"EBIT in 2018\",\"text_color\":\"black\",\"text_font_size\":\"12pt\"},\"id\":\"1007\",\"type\":\"Title\"},{\"attributes\":{\"callback\":null,\"renderers\":[{\"id\":\"1041\"}],\"tags\":[\"hv_created\"],\"tooltips\":[[\"Period Ended\",\"@{Period_Ended}\"],[\"EBIT\",\"@{EBIT}\"]]},\"id\":\"1005\",\"type\":\"HoverTool\"},{\"attributes\":{\"coordinates\":null,\"data_source\":{\"id\":\"1035\"},\"glyph\":{\"id\":\"1038\"},\"group\":null,\"hover_glyph\":null,\"muted_glyph\":{\"id\":\"1040\"},\"nonselection_glyph\":{\"id\":\"1039\"},\"selection_glyph\":{\"id\":\"1043\"},\"view\":{\"id\":\"1042\"}},\"id\":\"1041\",\"type\":\"GlyphRenderer\"},{\"attributes\":{},\"id\":\"1011\",\"type\":\"CategoricalScale\"},{\"attributes\":{},\"id\":\"1045\",\"type\":\"CategoricalTickFormatter\"},{\"attributes\":{\"below\":[{\"id\":\"1015\"}],\"center\":[{\"id\":\"1017\"},{\"id\":\"1021\"}],\"height\":300,\"left\":[{\"id\":\"1018\"}],\"margin\":[5,5,5,5],\"min_border_bottom\":10,\"min_border_left\":10,\"min_border_right\":10,\"min_border_top\":10,\"renderers\":[{\"id\":\"1041\"}],\"sizing_mode\":\"fixed\",\"title\":{\"id\":\"1007\"},\"toolbar\":{\"id\":\"1028\"},\"width\":700,\"x_range\":{\"id\":\"1003\"},\"x_scale\":{\"id\":\"1011\"},\"y_range\":{\"id\":\"1004\"},\"y_scale\":{\"id\":\"1013\"}},\"id\":\"1006\",\"subtype\":\"Figure\",\"type\":\"Plot\"},{\"attributes\":{},\"id\":\"1013\",\"type\":\"LinearScale\"},{\"attributes\":{},\"id\":\"1049\",\"type\":\"AllLabels\"},{\"attributes\":{\"axis_label\":\"Period Ended\",\"coordinates\":null,\"formatter\":{\"id\":\"1045\"},\"group\":null,\"major_label_policy\":{\"id\":\"1046\"},\"ticker\":{\"id\":\"1016\"}},\"id\":\"1015\",\"type\":\"CategoricalAxis\"},{\"attributes\":{\"axis\":{\"id\":\"1015\"},\"coordinates\":null,\"grid_line_color\":null,\"group\":null,\"ticker\":null},\"id\":\"1017\",\"type\":\"Grid\"},{\"attributes\":{},\"id\":\"1016\",\"type\":\"CategoricalTicker\"},{\"attributes\":{},\"id\":\"1048\",\"type\":\"BasicTickFormatter\"},{\"attributes\":{},\"id\":\"1061\",\"type\":\"UnionRenderers\"},{\"attributes\":{\"axis_label\":\"\",\"coordinates\":null,\"formatter\":{\"id\":\"1048\"},\"group\":null,\"major_label_policy\":{\"id\":\"1049\"},\"ticker\":{\"id\":\"1019\"}},\"id\":\"1018\",\"type\":\"LinearAxis\"},{\"attributes\":{\"axis\":{\"id\":\"1018\"},\"coordinates\":null,\"dimension\":1,\"grid_line_color\":null,\"group\":null,\"ticker\":null},\"id\":\"1021\",\"type\":\"Grid\"},{\"attributes\":{},\"id\":\"1019\",\"type\":\"BasicTicker\"},{\"attributes\":{\"data\":{\"EBIT\":{\"__ndarray__\":\"AAAAAFhnPUEAAAAALMJGQQAAAABwaUxBAAAAAIjiTEE=\",\"dtype\":\"float64\",\"order\":\"little\",\"shape\":[4]},\"Period_Ended\":[\"2018-03-31 00:00:00\",\"2018-06-30 00:00:00\",\"2018-09-30 00:00:00\",\"2018-12-31 00:00:00\"]},\"selected\":{\"id\":\"1036\"},\"selection_policy\":{\"id\":\"1061\"}},\"id\":\"1035\",\"type\":\"ColumnDataSource\"},{\"attributes\":{\"fill_color\":{\"value\":\"#30a2da\"},\"hatch_color\":{\"value\":\"#30a2da\"},\"top\":{\"field\":\"EBIT\"},\"width\":{\"value\":0.8},\"x\":{\"field\":\"Period_Ended\"}},\"id\":\"1038\",\"type\":\"VBar\"},{\"attributes\":{},\"id\":\"1022\",\"type\":\"SaveTool\"},{\"attributes\":{\"factors\":[\"2018-03-31 00:00:00\",\"2018-06-30 00:00:00\",\"2018-09-30 00:00:00\",\"2018-12-31 00:00:00\"],\"tags\":[[[\"Period Ended\",\"Period Ended\",null]]]},\"id\":\"1003\",\"type\":\"FactorRange\"},{\"attributes\":{},\"id\":\"1023\",\"type\":\"PanTool\"},{\"attributes\":{},\"id\":\"1024\",\"type\":\"WheelZoomTool\"},{\"attributes\":{\"overlay\":{\"id\":\"1027\"}},\"id\":\"1025\",\"type\":\"BoxZoomTool\"},{\"attributes\":{},\"id\":\"1026\",\"type\":\"ResetTool\"},{\"attributes\":{\"bottom_units\":\"screen\",\"coordinates\":null,\"fill_alpha\":0.5,\"fill_color\":\"lightgrey\",\"group\":null,\"left_units\":\"screen\",\"level\":\"overlay\",\"line_alpha\":1.0,\"line_color\":\"black\",\"line_dash\":[4,4],\"line_width\":2,\"right_units\":\"screen\",\"syncable\":false,\"top_units\":\"screen\"},\"id\":\"1027\",\"type\":\"BoxAnnotation\"},{\"attributes\":{},\"id\":\"1046\",\"type\":\"AllLabels\"},{\"attributes\":{\"active_drag\":{\"id\":\"1023\"},\"active_scroll\":{\"id\":\"1024\"},\"tools\":[{\"id\":\"1005\"},{\"id\":\"1022\"},{\"id\":\"1023\"},{\"id\":\"1024\"},{\"id\":\"1025\"},{\"id\":\"1026\"}]},\"id\":\"1028\",\"type\":\"Toolbar\"},{\"attributes\":{\"fill_alpha\":{\"value\":0.1},\"fill_color\":{\"value\":\"#30a2da\"},\"hatch_alpha\":{\"value\":0.1},\"hatch_color\":{\"value\":\"#30a2da\"},\"line_alpha\":{\"value\":0.1},\"top\":{\"field\":\"EBIT\"},\"width\":{\"value\":0.8},\"x\":{\"field\":\"Period_Ended\"}},\"id\":\"1039\",\"type\":\"VBar\"},{\"attributes\":{},\"id\":\"1036\",\"type\":\"Selection\"},{\"attributes\":{\"bottom\":{\"value\":0},\"fill_alpha\":{\"value\":1.0},\"fill_color\":{\"value\":\"#30a2da\"},\"hatch_alpha\":{\"value\":1.0},\"hatch_color\":{\"value\":\"#30a2da\"},\"hatch_scale\":{\"value\":12.0},\"hatch_weight\":{\"value\":1.0},\"line_alpha\":{\"value\":1.0},\"line_cap\":{\"value\":\"butt\"},\"line_color\":{\"value\":\"black\"},\"line_dash\":{\"value\":[]},\"line_dash_offset\":{\"value\":0},\"line_join\":{\"value\":\"bevel\"},\"line_width\":{\"value\":1},\"top\":{\"field\":\"EBIT\"},\"width\":{\"value\":0.8},\"x\":{\"field\":\"Period_Ended\"}},\"id\":\"1043\",\"type\":\"VBar\"},{\"attributes\":{\"end\":3971900.0,\"reset_end\":3971900.0,\"reset_start\":0.0,\"tags\":[[[\"EBIT\",\"EBIT\",null]]]},\"id\":\"1004\",\"type\":\"Range1d\"},{\"attributes\":{\"source\":{\"id\":\"1035\"}},\"id\":\"1042\",\"type\":\"CDSView\"}],\"root_ids\":[\"1002\"]},\"title\":\"Bokeh Application\",\"version\":\"2.4.3\"}};\n",
       "    var render_items = [{\"docid\":\"f7b34217-f6c5-4b8b-b3cc-ae1f0afdb053\",\"root_ids\":[\"1002\"],\"roots\":{\"1002\":\"313e9913-001d-48f4-8e53-787bc404ad18\"}}];\n",
       "    root.Bokeh.embed.embed_items_notebook(docs_json, render_items);\n",
       "    for (const render_item of render_items) {\n",
       "      for (const root_id of render_item.root_ids) {\n",
       "\tconst id_el = document.getElementById(root_id)\n",
       "\tif (id_el.children.length && (id_el.children[0].className === 'bk-root')) {\n",
       "\t  const root_el = id_el.children[0]\n",
       "\t  root_el.id = root_el.id + '-rendered'\n",
       "\t}\n",
       "      }\n",
       "    }\n",
       "  }\n",
       "  if (root.Bokeh !== undefined && root.Bokeh.Panel !== undefined) {\n",
       "    embed_document(root);\n",
       "  } else {\n",
       "    var attempts = 0;\n",
       "    var timer = setInterval(function(root) {\n",
       "      if (root.Bokeh !== undefined && root.Bokeh.Panel !== undefined) {\n",
       "        clearInterval(timer);\n",
       "        embed_document(root);\n",
       "      } else if (document.readyState == \"complete\") {\n",
       "        attempts++;\n",
       "        if (attempts > 200) {\n",
       "          clearInterval(timer);\n",
       "          console.log(\"Bokeh: ERROR: Unable to run BokehJS code because BokehJS library is missing\");\n",
       "        }\n",
       "      }\n",
       "    }, 25, root)\n",
       "  }\n",
       "})(window);</script>"
      ],
      "text/plain": [
       ":Bars   [Period Ended]   (EBIT)"
      ]
     },
     "execution_count": 43,
     "metadata": {
      "application/vnd.holoviews_exec.v0+json": {
       "id": "1002"
      }
     },
     "output_type": "execute_result"
    }
   ],
   "source": [
    "# Plot 2014 home sales data\n",
    "sales_2018.hvplot.bar(title=\"EBIT in 2018\")"
   ]
  },
  {
   "cell_type": "code",
   "execution_count": 44,
   "metadata": {},
   "outputs": [],
   "source": [
    "# Compute the total home sales per quarter\n",
    "quarterly_sales = df[\"EBIT\"].groupby(by=[df.index.quarter]).sum()"
   ]
  },
  {
   "cell_type": "code",
   "execution_count": 45,
   "metadata": {},
   "outputs": [
    {
     "data": {
      "text/plain": [
       "Period Ended\n",
       "1    29019000.0\n",
       "2    23557000.0\n",
       "3    20662000.0\n",
       "4    22862000.0\n",
       "Name: EBIT, dtype: float64"
      ]
     },
     "execution_count": 45,
     "metadata": {},
     "output_type": "execute_result"
    }
   ],
   "source": [
    "# Display total home sales per quarter\n",
    "quarterly_sales"
   ]
  },
  {
   "cell_type": "code",
   "execution_count": 46,
   "metadata": {},
   "outputs": [
    {
     "data": {
      "text/plain": [
       "<Axes: xlabel='Period Ended'>"
      ]
     },
     "execution_count": 46,
     "metadata": {},
     "output_type": "execute_result"
    },
    {
     "data": {
      "image/png": "[encoded data removed]",
      "text/plain": [
       "<Figure size 640x480 with 1 Axes>"
      ]
     },
     "metadata": {},
     "output_type": "display_data"
    }
   ],
   "source": [
    "# Plot total home sales per quarter\n",
    "quarterly_sales.plot()"
   ]
  },
  {
   "cell_type": "code",
   "execution_count": 47,
   "metadata": {},
   "outputs": [],
   "source": [
    "# Compute total quarterly home sales per year\n",
    "quarterly_eps_per_year = df[\"Basic EPS\"].groupby(by=[df.index.year, df.index.quarter]).sum()"
   ]
  },
  {
   "cell_type": "code",
   "execution_count": 48,
   "metadata": {},
   "outputs": [
    {
     "data": {
      "text/plain": [
       "Period Ended  Period Ended\n",
       "2017          1               0.08\n",
       "              2               0.02\n",
       "              3               0.03\n",
       "              4               0.19\n",
       "2018          1               0.17\n",
       "              2               0.26\n",
       "              3               0.30\n",
       "              4               0.31\n",
       "2019          1               0.36\n",
       "              2               0.27\n",
       "              3               0.22\n",
       "              4               0.33\n",
       "2020          1               0.26\n",
       "              2               0.52\n",
       "              3               0.63\n",
       "              4               0.72\n",
       "2021          1               0.80\n",
       "              2               0.77\n",
       "              3               0.31\n",
       "              4               1.41\n",
       "2022          1              -0.38\n",
       "              2              -0.20\n",
       "              3               0.28\n",
       "              4               0.03\n",
       "2023          1               0.31\n",
       "Name: Basic EPS, dtype: float64"
      ]
     },
     "execution_count": 48,
     "metadata": {},
     "output_type": "execute_result"
    }
   ],
   "source": [
    "# Display total quarterly home sales per year\n",
    "quarterly_eps_per_year"
   ]
  },
  {
   "cell_type": "code",
   "execution_count": 49,
   "metadata": {},
   "outputs": [
    {
     "data": {
      "text/plain": [
       "<Axes: xlabel='Period Ended,Period Ended'>"
      ]
     },
     "execution_count": 49,
     "metadata": {},
     "output_type": "execute_result"
    },
    {
     "data": {
      "image/png": "[encoded data removed]",
      "text/plain": [
       "<Figure size 640x480 with 1 Axes>"
      ]
     },
     "metadata": {},
     "output_type": "display_data"
    }
   ],
   "source": [
    "# Plot total quarterly home sales per year\n",
    "quarterly_eps_per_year.plot()"
   ]
  },
  {
   "cell_type": "code",
   "execution_count": 50,
   "metadata": {},
   "outputs": [
    {
     "data": {
      "text/plain": [
       "MultiIndex([(2017, 1),\n",
       "            (2017, 2),\n",
       "            (2017, 3),\n",
       "            (2017, 4),\n",
       "            (2018, 1),\n",
       "            (2018, 2),\n",
       "            (2018, 3),\n",
       "            (2018, 4),\n",
       "            (2019, 1),\n",
       "            (2019, 2),\n",
       "            (2019, 3),\n",
       "            (2019, 4),\n",
       "            (2020, 1),\n",
       "            (2020, 2),\n",
       "            (2020, 3),\n",
       "            (2020, 4),\n",
       "            (2021, 1),\n",
       "            (2021, 2),\n",
       "            (2021, 3),\n",
       "            (2021, 4),\n",
       "            (2022, 1),\n",
       "            (2022, 2),\n",
       "            (2022, 3),\n",
       "            (2022, 4),\n",
       "            (2023, 1)],\n",
       "           names=['Period Ended', 'Period Ended'])"
      ]
     },
     "execution_count": 50,
     "metadata": {},
     "output_type": "execute_result"
    }
   ],
   "source": [
    "quarterly_eps_per_year.index"
   ]
  },
  {
   "cell_type": "code",
   "execution_count": 52,
   "metadata": {},
   "outputs": [
    {
     "data": {},
     "metadata": {},
     "output_type": "display_data"
    },
    {
     "data": {
      "application/vnd.holoviews_exec.v0+json": "",
      "text/html": [
       "<div id='1238'>\n",
       "  <div class=\"bk-root\" id=\"75bd791c-87c4-4539-bc6c-1e126fce3983\" data-root-id=\"1238\"></div>\n",
       "</div>\n",
       "<script type=\"application/javascript\">(function(root) {\n",
       "  function embed_document(root) {\n",
       "    var docs_json = {\"02ed0970-94d7-42cd-bfad-5091b60c94c7\":{\"defs\":[{\"extends\":null,\"module\":null,\"name\":\"ReactiveHTML1\",\"overrides\":[],\"properties\":[]},{\"extends\":null,\"module\":null,\"name\":\"FlexBox1\",\"overrides\":[],\"properties\":[{\"default\":\"flex-start\",\"kind\":null,\"name\":\"align_content\"},{\"default\":\"flex-start\",\"kind\":null,\"name\":\"align_items\"},{\"default\":\"row\",\"kind\":null,\"name\":\"flex_direction\"},{\"default\":\"wrap\",\"kind\":null,\"name\":\"flex_wrap\"},{\"default\":\"flex-start\",\"kind\":null,\"name\":\"justify_content\"}]},{\"extends\":null,\"module\":null,\"name\":\"GridStack1\",\"overrides\":[],\"properties\":[{\"default\":\"warn\",\"kind\":null,\"name\":\"mode\"},{\"default\":null,\"kind\":null,\"name\":\"ncols\"},{\"default\":null,\"kind\":null,\"name\":\"nrows\"},{\"default\":true,\"kind\":null,\"name\":\"allow_resize\"},{\"default\":true,\"kind\":null,\"name\":\"allow_drag\"},{\"default\":[],\"kind\":null,\"name\":\"state\"}]},{\"extends\":null,\"module\":null,\"name\":\"click1\",\"overrides\":[],\"properties\":[{\"default\":\"\",\"kind\":null,\"name\":\"terminal_output\"},{\"default\":\"\",\"kind\":null,\"name\":\"debug_name\"},{\"default\":0,\"kind\":null,\"name\":\"clears\"}]},{\"extends\":null,\"module\":null,\"name\":\"NotificationAreaBase1\",\"overrides\":[],\"properties\":[{\"default\":\"bottom-right\",\"kind\":null,\"name\":\"position\"},{\"default\":0,\"kind\":null,\"name\":\"_clear\"}]},{\"extends\":null,\"module\":null,\"name\":\"NotificationArea1\",\"overrides\":[],\"properties\":[{\"default\":[],\"kind\":null,\"name\":\"notifications\"},{\"default\":\"bottom-right\",\"kind\":null,\"name\":\"position\"},{\"default\":0,\"kind\":null,\"name\":\"_clear\"},{\"default\":[{\"background\":\"#ffc107\",\"icon\":{\"className\":\"fas fa-exclamation-triangle\",\"color\":\"white\",\"tagName\":\"i\"},\"type\":\"warning\"},{\"background\":\"#007bff\",\"icon\":{\"className\":\"fas fa-info-circle\",\"color\":\"white\",\"tagName\":\"i\"},\"type\":\"info\"}],\"kind\":null,\"name\":\"types\"}]},{\"extends\":null,\"module\":null,\"name\":\"Notification\",\"overrides\":[],\"properties\":[{\"default\":null,\"kind\":null,\"name\":\"background\"},{\"default\":3000,\"kind\":null,\"name\":\"duration\"},{\"default\":null,\"kind\":null,\"name\":\"icon\"},{\"default\":\"\",\"kind\":null,\"name\":\"message\"},{\"default\":null,\"kind\":null,\"name\":\"notification_type\"},{\"default\":false,\"kind\":null,\"name\":\"_destroyed\"}]},{\"extends\":null,\"module\":null,\"name\":\"TemplateActions1\",\"overrides\":[],\"properties\":[{\"default\":0,\"kind\":null,\"name\":\"open_modal\"},{\"default\":0,\"kind\":null,\"name\":\"close_modal\"}]},{\"extends\":null,\"module\":null,\"name\":\"MaterialTemplateActions1\",\"overrides\":[],\"properties\":[{\"default\":0,\"kind\":null,\"name\":\"open_modal\"},{\"default\":0,\"kind\":null,\"name\":\"close_modal\"}]}],\"roots\":{\"references\":[{\"attributes\":{\"below\":[{\"id\":\"1251\"}],\"center\":[{\"id\":\"1254\"},{\"id\":\"1258\"}],\"height\":300,\"left\":[{\"id\":\"1255\"}],\"margin\":[5,5,5,5],\"min_border_bottom\":10,\"min_border_left\":10,\"min_border_right\":10,\"min_border_top\":10,\"renderers\":[{\"id\":\"1280\"}],\"right\":[{\"id\":\"1283\"}],\"sizing_mode\":\"fixed\",\"title\":{\"id\":\"1243\"},\"toolbar\":{\"id\":\"1265\"},\"width\":700,\"x_range\":{\"id\":\"1239\"},\"x_scale\":{\"id\":\"1247\"},\"y_range\":{\"id\":\"1240\"},\"y_scale\":{\"id\":\"1249\"}},\"id\":\"1242\",\"subtype\":\"Figure\",\"type\":\"Plot\"},{\"attributes\":{\"end\":2023.5,\"reset_end\":2023.5,\"reset_start\":2016.5,\"start\":2016.5,\"tags\":[[[\"index.year\",\"index.year\",null]]]},\"id\":\"1239\",\"type\":\"Range1d\"},{\"attributes\":{},\"id\":\"1286\",\"type\":\"AllLabels\"},{\"attributes\":{\"children\":[{\"id\":\"1242\"}],\"height\":300,\"margin\":[0,0,0,0],\"name\":\"Row01021\",\"sizing_mode\":\"fixed\",\"tags\":[\"embedded\"],\"width\":700},\"id\":\"1238\",\"type\":\"Row\"},{\"attributes\":{\"fill_alpha\":{\"value\":0.1},\"fill_color\":{\"field\":\"zvalues\",\"transform\":{\"id\":\"1272\"}},\"hatch_alpha\":{\"value\":0.1},\"height\":{\"field\":\"height\"},\"line_alpha\":{\"value\":0},\"line_color\":{\"value\":\"#1f77b4\"},\"width\":{\"field\":\"width\"},\"x\":{\"field\":\"index_full_stop_year\"},\"y\":{\"field\":\"index_full_stop_quarter\"}},\"id\":\"1277\",\"type\":\"Rect\"},{\"attributes\":{\"callback\":null,\"renderers\":[{\"id\":\"1280\"}],\"tags\":[\"hv_created\"],\"tooltips\":[[\"index.year\",\"@{index_full_stop_year}\"],[\"index.quarter\",\"@{index_full_stop_quarter}\"],[\"EBIT\",\"@{EBIT}\"]]},\"id\":\"1241\",\"type\":\"HoverTool\"},{\"attributes\":{\"coordinates\":null,\"group\":null,\"text_color\":\"black\",\"text_font_size\":\"12pt\"},\"id\":\"1243\",\"type\":\"Title\"},{\"attributes\":{\"fill_alpha\":{\"value\":0.2},\"fill_color\":{\"field\":\"zvalues\",\"transform\":{\"id\":\"1272\"}},\"hatch_alpha\":{\"value\":0.2},\"height\":{\"field\":\"height\"},\"line_alpha\":{\"value\":0},\"line_color\":{\"value\":\"#1f77b4\"},\"width\":{\"field\":\"width\"},\"x\":{\"field\":\"index_full_stop_year\"},\"y\":{\"field\":\"index_full_stop_quarter\"}},\"id\":\"1279\",\"type\":\"Rect\"},{\"attributes\":{},\"id\":\"1261\",\"type\":\"WheelZoomTool\"},{\"attributes\":{},\"id\":\"1252\",\"type\":\"BasicTicker\"},{\"attributes\":{\"bar_line_color\":\"black\",\"color_mapper\":{\"id\":\"1272\"},\"coordinates\":null,\"group\":null,\"label_standoff\":8,\"location\":[0,0],\"major_label_policy\":{\"id\":\"1298\"},\"major_tick_line_color\":\"black\",\"ticker\":{\"id\":\"1282\"}},\"id\":\"1283\",\"type\":\"ColorBar\"},{\"attributes\":{\"bottom_units\":\"screen\",\"coordinates\":null,\"fill_alpha\":0.5,\"fill_color\":\"lightgrey\",\"group\":null,\"left_units\":\"screen\",\"level\":\"overlay\",\"line_alpha\":1.0,\"line_color\":\"black\",\"line_dash\":[4,4],\"line_width\":2,\"right_units\":\"screen\",\"syncable\":false,\"top_units\":\"screen\"},\"id\":\"1264\",\"type\":\"BoxAnnotation\"},{\"attributes\":{},\"id\":\"1247\",\"type\":\"LinearScale\"},{\"attributes\":{\"source\":{\"id\":\"1273\"}},\"id\":\"1281\",\"type\":\"CDSView\"},{\"attributes\":{},\"id\":\"1298\",\"type\":\"NoOverlap\"},{\"attributes\":{\"coordinates\":null,\"data_source\":{\"id\":\"1273\"},\"glyph\":{\"id\":\"1276\"},\"group\":null,\"hover_glyph\":null,\"muted_glyph\":{\"id\":\"1279\"},\"nonselection_glyph\":{\"id\":\"1277\"},\"selection_glyph\":{\"id\":\"1278\"},\"view\":{\"id\":\"1281\"}},\"id\":\"1280\",\"type\":\"GlyphRenderer\"},{\"attributes\":{},\"id\":\"1249\",\"type\":\"LinearScale\"},{\"attributes\":{},\"id\":\"1260\",\"type\":\"PanTool\"},{\"attributes\":{},\"id\":\"1289\",\"type\":\"AllLabels\"},{\"attributes\":{\"axis_label\":\"index.quarter\",\"coordinates\":null,\"formatter\":{\"id\":\"1288\"},\"group\":null,\"major_label_policy\":{\"id\":\"1289\"},\"ticker\":{\"id\":\"1256\"}},\"id\":\"1255\",\"type\":\"LinearAxis\"},{\"attributes\":{},\"id\":\"1288\",\"type\":\"BasicTickFormatter\"},{\"attributes\":{},\"id\":\"1274\",\"type\":\"Selection\"},{\"attributes\":{\"axis\":{\"id\":\"1255\"},\"coordinates\":null,\"dimension\":1,\"grid_line_color\":null,\"group\":null,\"ticker\":null},\"id\":\"1258\",\"type\":\"Grid\"},{\"attributes\":{\"axis\":{\"id\":\"1251\"},\"coordinates\":null,\"grid_line_color\":null,\"group\":null,\"ticker\":null},\"id\":\"1254\",\"type\":\"Grid\"},{\"attributes\":{},\"id\":\"1256\",\"type\":\"BasicTicker\"},{\"attributes\":{\"end\":4.5,\"reset_end\":4.5,\"reset_start\":0.5,\"start\":0.5,\"tags\":[[[\"index.quarter\",\"index.quarter\",null]]]},\"id\":\"1240\",\"type\":\"Range1d\"},{\"attributes\":{},\"id\":\"1302\",\"type\":\"UnionRenderers\"},{\"attributes\":{},\"id\":\"1259\",\"type\":\"SaveTool\"},{\"attributes\":{},\"id\":\"1285\",\"type\":\"BasicTickFormatter\"},{\"attributes\":{\"active_drag\":{\"id\":\"1260\"},\"active_scroll\":{\"id\":\"1261\"},\"tools\":[{\"id\":\"1241\"},{\"id\":\"1259\"},{\"id\":\"1260\"},{\"id\":\"1261\"},{\"id\":\"1262\"},{\"id\":\"1263\"}]},\"id\":\"1265\",\"type\":\"Toolbar\"},{\"attributes\":{\"data\":{\"EBIT\":[\"1.005e+06\",\"6.28e+05\",\"3.47e+05\",\"2.127e+06\",\"1.927e+06\",\"2.983e+06\",\"3.724e+06\",\"3.786e+06\",\"4.42e+06\",\"3.084e+06\",\"3.02e+06\",\"3.879e+06\",\"3.989e+06\",\"5.843e+06\",\"6.194e+06\",\"6.873e+06\",\"8.865e+06\",\"7.702e+06\",\"4.852e+06\",\"3.46e+06\",\"3.859e+06\",\"3.317e+06\",\"2.525e+06\",\"2.737e+06\",\"4.954e+06\",\"-\",\"-\",\"-\"],\"height\":{\"__ndarray__\":\"AAAAAAAA8D8AAAAAAADwPwAAAAAAAPA/AAAAAAAA8D8AAAAAAADwPwAAAAAAAPA/AAAAAAAA8D8AAAAAAADwPwAAAAAAAPA/AAAAAAAA8D8AAAAAAADwPwAAAAAAAPA/AAAAAAAA8D8AAAAAAADwPwAAAAAAAPA/AAAAAAAA8D8AAAAAAADwPwAAAAAAAPA/AAAAAAAA8D8AAAAAAADwPwAAAAAAAPA/AAAAAAAA8D8AAAAAAADwPwAAAAAAAPA/AAAAAAAA8D8AAAAAAADwPwAAAAAAAPA/AAAAAAAA8D8=\",\"dtype\":\"float64\",\"order\":\"little\",\"shape\":[28]},\"index_full_stop_quarter\":[1,2,3,4,1,2,3,4,1,2,3,4,1,2,3,4,1,2,3,4,1,2,3,4,1,2,3,4],\"index_full_stop_year\":[2017,2017,2017,2017,2018,2018,2018,2018,2019,2019,2019,2019,2020,2020,2020,2020,2021,2021,2021,2021,2022,2022,2022,2022,2023,2023,2023,2023],\"width\":{\"__ndarray__\":\"AAAAAAAA8D8AAAAAAADwPwAAAAAAAPA/AAAAAAAA8D8AAAAAAADwPwAAAAAAAPA/AAAAAAAA8D8AAAAAAADwPwAAAAAAAPA/AAAAAAAA8D8AAAAAAADwPwAAAAAAAPA/AAAAAAAA8D8AAAAAAADwPwAAAAAAAPA/AAAAAAAA8D8AAAAAAADwPwAAAAAAAPA/AAAAAAAA8D8AAAAAAADwPwAAAAAAAPA/AAAAAAAA8D8AAAAAAADwPwAAAAAAAPA/AAAAAAAA8D8AAAAAAADwPwAAAAAAAPA/AAAAAAAA8D8=\",\"dtype\":\"float64\",\"order\":\"little\",\"shape\":[28]},\"zvalues\":{\"__ndarray__\":\"AAAAAJCrLkEAAAAAQCojQQAAAADgLRVBAAAAAEw6QEEAAAAAWGc9QQAAAAAswkZBAAAAAHBpTEEAAAAAiOJMQQAAAABo3FBBAAAAAHCHR0EAAAAAcApHQQAAAAAsmE1BAAAAAARvTkEAAAAADkpWQQAAAADUoFdBAAAAAOo3WkEAAAAAnehgQQAAAAB8YV1BAAAAAEiCUkEAAAAA0GVKQQAAAAAccU1BAAAAAIROSUEAAAAApENDQQAAAAC04URBAAAAAOTlUkEAAAAAAAD4fwAAAAAAAPh/AAAAAAAA+H8=\",\"dtype\":\"float64\",\"order\":\"little\",\"shape\":[28]}},\"selected\":{\"id\":\"1274\"},\"selection_policy\":{\"id\":\"1302\"}},\"id\":\"1273\",\"type\":\"ColumnDataSource\"},{\"attributes\":{},\"id\":\"1282\",\"type\":\"BasicTicker\"},{\"attributes\":{\"axis_label\":\"index.year\",\"coordinates\":null,\"formatter\":{\"id\":\"1285\"},\"group\":null,\"major_label_policy\":{\"id\":\"1286\"},\"ticker\":{\"id\":\"1252\"}},\"id\":\"1251\",\"type\":\"LinearAxis\"},{\"attributes\":{\"fill_color\":{\"field\":\"zvalues\",\"transform\":{\"id\":\"1272\"}},\"height\":{\"field\":\"height\"},\"line_alpha\":{\"value\":0},\"line_color\":{\"value\":\"#1f77b4\"},\"width\":{\"field\":\"width\"},\"x\":{\"field\":\"index_full_stop_year\"},\"y\":{\"field\":\"index_full_stop_quarter\"}},\"id\":\"1276\",\"type\":\"Rect\"},{\"attributes\":{\"high\":8865000.0,\"low\":347000.0,\"nan_color\":\"white\",\"palette\":[\"#fff5f0\",\"#fff4ef\",\"#fff4ee\",\"#fff3ed\",\"#fff2ec\",\"#fff2eb\",\"#fff1ea\",\"#fff0e9\",\"#fff0e8\",\"#ffefe8\",\"#ffeee7\",\"#ffeee6\",\"#ffede5\",\"#ffece4\",\"#ffece3\",\"#ffebe2\",\"#feeae1\",\"#feeae0\",\"#fee9df\",\"#fee8de\",\"#fee8dd\",\"#fee7dc\",\"#fee7db\",\"#fee6da\",\"#fee5d9\",\"#fee5d8\",\"#fee4d8\",\"#fee3d7\",\"#fee3d6\",\"#fee2d5\",\"#fee1d4\",\"#fee1d3\",\"#fee0d2\",\"#fedfd0\",\"#fedecf\",\"#fedccd\",\"#fedbcc\",\"#fedaca\",\"#fed9c9\",\"#fed8c7\",\"#fdd7c6\",\"#fdd5c4\",\"#fdd4c2\",\"#fdd3c1\",\"#fdd2bf\",\"#fdd1be\",\"#fdd0bc\",\"#fdcebb\",\"#fdcdb9\",\"#fdccb8\",\"#fdcbb6\",\"#fdcab5\",\"#fdc9b3\",\"#fdc7b2\",\"#fdc6b0\",\"#fdc5ae\",\"#fcc4ad\",\"#fcc3ab\",\"#fcc2aa\",\"#fcc1a8\",\"#fcbfa7\",\"#fcbea5\",\"#fcbda4\",\"#fcbca2\",\"#fcbba1\",\"#fcb99f\",\"#fcb89e\",\"#fcb79c\",\"#fcb69b\",\"#fcb499\",\"#fcb398\",\"#fcb296\",\"#fcb095\",\"#fcaf93\",\"#fcae92\",\"#fcad90\",\"#fcab8f\",\"#fcaa8d\",\"#fca98c\",\"#fca78b\",\"#fca689\",\"#fca588\",\"#fca486\",\"#fca285\",\"#fca183\",\"#fca082\",\"#fc9e80\",\"#fc9d7f\",\"#fc9c7d\",\"#fc9b7c\",\"#fc997a\",\"#fc9879\",\"#fc9777\",\"#fc9576\",\"#fc9474\",\"#fc9373\",\"#fc9272\",\"#fc9070\",\"#fc8f6f\",\"#fc8e6e\",\"#fc8d6d\",\"#fc8b6b\",\"#fc8a6a\",\"#fc8969\",\"#fc8767\",\"#fc8666\",\"#fc8565\",\"#fc8464\",\"#fc8262\",\"#fc8161\",\"#fc8060\",\"#fc7f5f\",\"#fb7d5d\",\"#fb7c5c\",\"#fb7b5b\",\"#fb7a5a\",\"#fb7858\",\"#fb7757\",\"#fb7656\",\"#fb7555\",\"#fb7353\",\"#fb7252\",\"#fb7151\",\"#fb7050\",\"#fb6e4e\",\"#fb6d4d\",\"#fb6c4c\",\"#fb6b4b\",\"#fb694a\",\"#fa6849\",\"#fa6648\",\"#fa6547\",\"#f96346\",\"#f96245\",\"#f96044\",\"#f85f43\",\"#f85d42\",\"#f75c41\",\"#f75b40\",\"#f7593f\",\"#f6583e\",\"#f6563d\",\"#f6553c\",\"#f5533b\",\"#f5523a\",\"#f4503a\",\"#f44f39\",\"#f44d38\",\"#f34c37\",\"#f34a36\",\"#f34935\",\"#f24734\",\"#f24633\",\"#f14432\",\"#f14331\",\"#f14130\",\"#f0402f\",\"#f03f2e\",\"#f03d2d\",\"#ef3c2c\",\"#ee3a2c\",\"#ed392b\",\"#ec382b\",\"#eb372a\",\"#ea362a\",\"#e93529\",\"#e83429\",\"#e63328\",\"#e53228\",\"#e43027\",\"#e32f27\",\"#e22e27\",\"#e12d26\",\"#e02c26\",\"#de2b25\",\"#dd2a25\",\"#dc2924\",\"#db2824\",\"#da2723\",\"#d92523\",\"#d82422\",\"#d72322\",\"#d52221\",\"#d42121\",\"#d32020\",\"#d21f20\",\"#d11e1f\",\"#d01d1f\",\"#cf1c1f\",\"#ce1a1e\",\"#cc191e\",\"#cb181d\",\"#ca181d\",\"#c9181d\",\"#c8171c\",\"#c7171c\",\"#c5171c\",\"#c4161c\",\"#c3161b\",\"#c2161b\",\"#c1161b\",\"#bf151b\",\"#be151a\",\"#bd151a\",\"#bc141a\",\"#bb141a\",\"#b91419\",\"#b81419\",\"#b71319\",\"#b61319\",\"#b51318\",\"#b31218\",\"#b21218\",\"#b11218\",\"#b01217\",\"#af1117\",\"#ad1117\",\"#ac1117\",\"#ab1016\",\"#aa1016\",\"#a91016\",\"#a81016\",\"#a60f15\",\"#a50f15\",\"#a30f15\",\"#a10e15\",\"#9f0e14\",\"#9d0d14\",\"#9c0d14\",\"#9a0c14\",\"#980c13\",\"#960b13\",\"#940b13\",\"#920a13\",\"#900a12\",\"#8e0912\",\"#8c0912\",\"#8a0812\",\"#880811\",\"#860811\",\"#840711\",\"#820711\",\"#800610\",\"#7e0610\",\"#7c0510\",\"#7a0510\",\"#79040f\",\"#77040f\",\"#75030f\",\"#73030f\",\"#71020e\",\"#6f020e\",\"#6d010e\",\"#6b010e\",\"#69000d\",\"#67000d\"]},\"id\":\"1272\",\"type\":\"LinearColorMapper\"},{\"attributes\":{\"fill_color\":{\"field\":\"zvalues\",\"transform\":{\"id\":\"1272\"}},\"height\":{\"field\":\"height\"},\"line_alpha\":{\"value\":0},\"line_color\":{\"value\":\"#1f77b4\"},\"width\":{\"field\":\"width\"},\"x\":{\"field\":\"index_full_stop_year\"},\"y\":{\"field\":\"index_full_stop_quarter\"}},\"id\":\"1278\",\"type\":\"Rect\"},{\"attributes\":{\"overlay\":{\"id\":\"1264\"}},\"id\":\"1262\",\"type\":\"BoxZoomTool\"},{\"attributes\":{},\"id\":\"1263\",\"type\":\"ResetTool\"}],\"root_ids\":[\"1238\"]},\"title\":\"Bokeh Application\",\"version\":\"2.4.3\"}};\n",
       "    var render_items = [{\"docid\":\"02ed0970-94d7-42cd-bfad-5091b60c94c7\",\"root_ids\":[\"1238\"],\"roots\":{\"1238\":\"75bd791c-87c4-4539-bc6c-1e126fce3983\"}}];\n",
       "    root.Bokeh.embed.embed_items_notebook(docs_json, render_items);\n",
       "    for (const render_item of render_items) {\n",
       "      for (const root_id of render_item.root_ids) {\n",
       "\tconst id_el = document.getElementById(root_id)\n",
       "\tif (id_el.children.length && (id_el.children[0].className === 'bk-root')) {\n",
       "\t  const root_el = id_el.children[0]\n",
       "\t  root_el.id = root_el.id + '-rendered'\n",
       "\t}\n",
       "      }\n",
       "    }\n",
       "  }\n",
       "  if (root.Bokeh !== undefined && root.Bokeh.Panel !== undefined) {\n",
       "    embed_document(root);\n",
       "  } else {\n",
       "    var attempts = 0;\n",
       "    var timer = setInterval(function(root) {\n",
       "      if (root.Bokeh !== undefined && root.Bokeh.Panel !== undefined) {\n",
       "        clearInterval(timer);\n",
       "        embed_document(root);\n",
       "      } else if (document.readyState == \"complete\") {\n",
       "        attempts++;\n",
       "        if (attempts > 200) {\n",
       "          clearInterval(timer);\n",
       "          console.log(\"Bokeh: ERROR: Unable to run BokehJS code because BokehJS library is missing\");\n",
       "        }\n",
       "      }\n",
       "    }, 25, root)\n",
       "  }\n",
       "})(window);</script>"
      ],
      "text/plain": [
       ":HeatMap   [index.year,index.quarter]   (EBIT)"
      ]
     },
     "execution_count": 52,
     "metadata": {
      "application/vnd.holoviews_exec.v0+json": {
       "id": "1238"
      }
     },
     "output_type": "execute_result"
    }
   ],
   "source": [
    "# Plot quarterly home sales per year using a heatmap\n",
    "df.hvplot.heatmap(\n",
    "    x=\"index.year\",                     \n",
    "    y=\"index.quarter\", \n",
    "    C=\"EBIT\", \n",
    "    cmap=\"reds\"\n",
    ").aggregate(function=np.mean)"
   ]
  },
  {
   "cell_type": "code",
   "execution_count": null,
   "metadata": {},
   "outputs": [],
   "source": []
  }
 ],
 "metadata": {
  "kernelspec": {
   "display_name": "Python 3 (ipykernel)",
   "language": "python",
   "name": "python3"
  },
  "language_info": {
   "codemirror_mode": {
    "name": "ipython",
    "version": 3
   },
   "file_extension": ".py",
   "mimetype": "text/x-python",
   "name": "python",
   "nbconvert_exporter": "python",
   "pygments_lexer": "ipython3",
   "version": "3.10.9"
  }
 },
 "nbformat": 4,
 "nbformat_minor": 4
}
